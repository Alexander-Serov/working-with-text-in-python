{
 "cells": [
  {
   "cell_type": "code",
   "execution_count": null,
   "metadata": {},
   "outputs": [],
   "source": [
    "import json\n",
    "# Count the number of likes and comments per word\n",
    "from collections import defaultdict\n",
    "\n",
    "import plotly.graph_objects as go\n",
    "from wordcloud import WordCloud"
   ]
  },
  {
   "cell_type": "code",
   "execution_count": null,
   "metadata": {},
   "outputs": [],
   "source": [
    "file = 'buynomics-posts.json'\n",
    "with open(file, 'r') as f:\n",
    "    posts = json.load(f)"
   ]
  },
  {
   "cell_type": "code",
   "execution_count": null,
   "metadata": {},
   "outputs": [],
   "source": [
    "# General introduction: mathematical operations, printing"
   ]
  },
  {
   "cell_type": "code",
   "execution_count": null,
   "metadata": {},
   "outputs": [],
   "source": [
    "# Data structures: lists, dicts, sets"
   ]
  },
  {
   "cell_type": "code",
   "execution_count": null,
   "metadata": {},
   "outputs": [],
   "source": [
    "# Check out a random post\n",
    "post = posts[52]\n",
    "post"
   ]
  },
  {
   "cell_type": "code",
   "execution_count": null,
   "metadata": {},
   "outputs": [],
   "source": [
    "# Find the most liked post"
   ]
  },
  {
   "cell_type": "code",
   "execution_count": null,
   "metadata": {},
   "outputs": [],
   "source": [
    "# Find the most commented post"
   ]
  },
  {
   "cell_type": "code",
   "execution_count": null,
   "metadata": {},
   "outputs": [],
   "source": [
    "# Searching posts:\n",
    "# - Find how many posts mention \"12k+\"\n",
    "# - Find the context in which \"12k+\" was used\n",
    "counter = 0\n",
    "marked = []\n",
    "key = \"12k+\"\n",
    "for i, post in enumerate(posts):\n",
    "    if key in post['text']:\n",
    "        counter += 1\n",
    "        marked.append(i)\n",
    "print(counter, marked)\n",
    "print(posts[marked[0]])"
   ]
  },
  {
   "cell_type": "code",
   "execution_count": null,
   "metadata": {},
   "outputs": [],
   "source": [
    "# For the selected post:\n",
    "# - count the number of words\n",
    "# - standardize the words\n",
    "# - count the number of unique words\n",
    "# - find the longest word\n",
    "# - find the second-longest word\n",
    "# - find the most popular word\n",
    "# - list all hashtags\n",
    "t = post['text']\n",
    "words = t.split()\n",
    "\n",
    "def standardize(words):\n",
    "    out = []\n",
    "    chars = ' ,.!?;:'\n",
    "    for word in words:\n",
    "        w = word.strip(chars)\n",
    "        w = w.lower()\n",
    "        out.append(w)\n",
    "    return out\n",
    "\n",
    "words = standardize(words)\n",
    "\n",
    "print(len(words))\n",
    "print(len(set(words)))\n",
    "\n",
    "def longest(words):\n",
    "    length = 0\n",
    "    w =''\n",
    "    for word in words:\n",
    "        if len(word) > length:\n",
    "            length = len(word)\n",
    "            w = word\n",
    "    return w\n",
    "\n",
    "def popular(words):\n",
    "    length = 0\n",
    "    w =''\n",
    "    for word in words:\n",
    "        if len(word) > length:\n",
    "            length = len(word)\n",
    "            w = word\n",
    "    return w\n",
    "\n",
    "longest(words)"
   ]
  },
  {
   "cell_type": "code",
   "execution_count": null,
   "metadata": {},
   "outputs": [],
   "source": []
  },
  {
   "cell_type": "code",
   "execution_count": null,
   "metadata": {},
   "outputs": [],
   "source": []
  },
  {
   "cell_type": "code",
   "execution_count": null,
   "metadata": {},
   "outputs": [],
   "source": [
    "liked_words = defaultdict(lambda: 0)\n",
    "commented_words = defaultdict(lambda: 0)\n",
    "total_words = defaultdict(lambda: 0)\n",
    "for post in posts:\n",
    "    text = post['text']\n",
    "    likes = post['likesCount']\n",
    "    comments = post['commentsCount']\n",
    "    words = text.split()\n",
    "    words = standardize(words)\n",
    "    for word in words:\n",
    "        liked_words[word] += likes\n",
    "        commented_words[word] += comments\n",
    "        total_words[word] += 1\n",
    "\n",
    "liked_words"
   ]
  },
  {
   "cell_type": "code",
   "execution_count": null,
   "metadata": {},
   "outputs": [],
   "source": [
    "normalized = True\n",
    "\n",
    "# normalized\n",
    "liked_words_list = [(like / (total_words[word] if normalized else 1), word) for word, like in liked_words.items()]\n",
    "liked_words_list = sorted(liked_words_list, reverse=True)\n",
    "# print(liked_words_list)\n",
    "\n",
    "scores = [e[0] for e in liked_words_list]\n",
    "labels = [e[1] for e in liked_words_list]\n",
    "cutoff = 500\n",
    "\n",
    "fig = go.Figure([go.Bar(x=labels[:cutoff], y=scores[:cutoff])])\n",
    "fig.update_yaxes(title='Score')\n",
    "fig.update_xaxes(title='Word')\n",
    "fig.update_layout(title = f\"{cutoff} most impactful words in Buynomics' posts (likes)\")\n",
    "fig.show()"
   ]
  },
  {
   "cell_type": "code",
   "execution_count": null,
   "metadata": {},
   "outputs": [],
   "source": [
    "height =600\n",
    "width = 2 * height\n",
    "likes_cloud = WordCloud(height=height, width = width).fit_words({word: score for score, word in liked_words_list})\n",
    "likes_cloud.to_image()"
   ]
  },
  {
   "cell_type": "code",
   "execution_count": null,
   "metadata": {},
   "outputs": [],
   "source": [
    "# normalized\n",
    "commented_words_list = [(comment / (total_words[word] if normalized else 1), word) for word, comment in commented_words.items()]\n",
    "commented_words_list = sorted(commented_words_list, reverse=True)\n",
    "# print(liked_words_list)\n",
    "\n",
    "scores = [e[0] for e in commented_words_list]\n",
    "labels = [e[1] for e in commented_words_list]\n",
    "\n",
    "fig = go.Figure([go.Bar(x=labels[:cutoff], y=scores[:cutoff])])\n",
    "fig.update_yaxes(title='Score')\n",
    "fig.update_xaxes(title='Word')\n",
    "fig.update_layout(title = f\"{cutoff} most impactful words in Buynomics' posts (comments)\")\n",
    "fig.show()"
   ]
  },
  {
   "cell_type": "code",
   "execution_count": null,
   "metadata": {},
   "outputs": [],
   "source": [
    "likes_cloud = WordCloud(height=height, width = width).fit_words({word: score for score, word in commented_words_list})\n",
    "likes_cloud.to_image()"
   ]
  },
  {
   "cell_type": "code",
   "execution_count": null,
   "metadata": {},
   "outputs": [],
   "source": []
  }
 ],
 "metadata": {
  "kernelspec": {
   "display_name": "Python 3",
   "language": "python",
   "name": "python3"
  },
  "language_info": {
   "codemirror_mode": {
    "name": "ipython",
    "version": 2
   },
   "file_extension": ".py",
   "mimetype": "text/x-python",
   "name": "python",
   "nbconvert_exporter": "python",
   "pygments_lexer": "ipython2",
   "version": "2.7.6"
  }
 },
 "nbformat": 4,
 "nbformat_minor": 0
}
